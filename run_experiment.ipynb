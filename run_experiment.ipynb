{
 "cells": [
  {
   "cell_type": "code",
   "execution_count": 1,
   "id": "3eb6eb39",
   "metadata": {
    "pycharm": {
     "name": "#%%\n"
    }
   },
   "outputs": [],
   "source": [
    "%load_ext autoreload\n",
    "%autoreload 2\n",
    "%matplotlib inline"
   ]
  },
  {
   "cell_type": "code",
   "execution_count": 2,
   "id": "7a4993d1",
   "metadata": {
    "pycharm": {
     "name": "#%%\n"
    }
   },
   "outputs": [],
   "source": [
    "import gym\n",
    "from IPython.core.display_functions import clear_output\n",
    "from matplotlib import pyplot as plt\n",
    "\n",
    "from agents.cDDQN_pytorch import DQNLoadedPolicy, DDQN_torch\n",
    "from agents.cRainbow_pytorch import *\n",
    "\n",
    "from environments_and_constraints.lunar_lander.utils import *"
   ]
  },
  {
   "cell_type": "markdown",
   "id": "606f13f4",
   "metadata": {
    "pycharm": {
     "name": "#%% md\n"
    }
   },
   "source": [
    "## Helper Functions:"
   ]
  },
  {
   "cell_type": "code",
   "execution_count": 3,
   "id": "81ffe36b",
   "metadata": {
    "pycharm": {
     "name": "#%%\n"
    }
   },
   "outputs": [],
   "source": [
    "def sliding_average(values, w=5):\n",
    "    '''\n",
    "    Function for smoothing an array using a sliding average\n",
    "    \n",
    "    Parameters:\n",
    "    ----------\n",
    "    values (array-like): Values to smooth\n",
    "    w (int): Window of values to smooth over\n",
    "    '''\n",
    "    if w == 0:\n",
    "        return np.array(values)\n",
    "    else:\n",
    "        new_values = []\n",
    "        for i in range(len(values)):\n",
    "            new_values.append(np.mean(values[max(i - w, 0): min(i + w + 1, len(values))]))\n",
    "        return np.array(new_values)\n",
    "\n",
    "\n",
    "def plot_training(episode,rewards,losses):\n",
    "    \"\"\"Plot the training progress.\"\"\"\n",
    "    clear_output(True)\n",
    "    plt.figure(figsize=(20, 5))\n",
    "    plt.subplot(131)\n",
    "    plt.title('episode %s. rewards: %s' % (episode, np.mean(rewards[-10:])))\n",
    "    if len(rewards) > 40:\n",
    "        plt.plot(sliding_average(rewards, w=30))\n",
    "    else:\n",
    "        plt.plot(rewards)\n",
    "    plt.subplot(132)\n",
    "    plt.title('loss')\n",
    "    if len(losses) > 40:\n",
    "        plt.plot(sliding_average(losses, w=30))\n",
    "    else:\n",
    "        plt.plot(losses)\n",
    "    plt.show()"
   ]
  },
  {
   "cell_type": "code",
   "execution_count": 4,
   "id": "e0d1c88c",
   "metadata": {
    "pycharm": {
     "name": "#%%\n"
    }
   },
   "outputs": [],
   "source": [
    "def run_episode_experiment(env, agent, train=True, log_r = False):\n",
    "    '''\n",
    "    Runs a single episode\n",
    "    \n",
    "    Parameters:\n",
    "    ----------\n",
    "    env: environment, should contain the functions reset and step\n",
    "    agent: rl learning agent, should contain the functions get_action, add_experience_train, and end_episode\n",
    "    train (bool): whether to train the agent (set to False to evaluate)\n",
    "    log_r (bool): use the log of rewards to train\n",
    "    '''\n",
    "    state = env.reset()\n",
    "    total_reward = 0\n",
    "    total_loss = 0\n",
    "    all_rewards = []\n",
    "    all_rewards_unscaled = []\n",
    "    t = 0\n",
    "    done = False\n",
    "    while not done:\n",
    "        t+= 1\n",
    "        if train:\n",
    "            eps = None\n",
    "        else:\n",
    "            eps = EPS_MIN\n",
    "        action = agent.get_action(state, eps)\n",
    "        next_state, reward_unscaled, done, info = env.step(action)\n",
    "        \n",
    "        if log_r:\n",
    "            if reward_unscaled < 1:\n",
    "                reward = -10\n",
    "            else:\n",
    "                reward = np.log(reward_unscaled) - 10\n",
    "        else:\n",
    "            reward = reward_unscaled\n",
    "            \n",
    "        if train:\n",
    "            loss = agent.add_experience_train(state, action, reward, next_state, done)\n",
    "            total_loss += loss\n",
    "\n",
    "        state = next_state\n",
    "        total_reward += reward\n",
    "        all_rewards.append(reward)\n",
    "        all_rewards_unscaled.append(reward_unscaled)\n",
    "        if done:\n",
    "            break\n",
    "\n",
    "    return total_reward, total_loss, all_rewards, all_rewards_unscaled, t"
   ]
  },
  {
   "cell_type": "code",
   "execution_count": 5,
   "id": "df7984c5",
   "metadata": {
    "pycharm": {
     "name": "#%%\n"
    }
   },
   "outputs": [],
   "source": [
    "def run_experiment(env, agent, n_episodes = 5000, log_r = False):\n",
    "    '''\n",
    "    Runs the episode and plots the progress\n",
    "    \n",
    "    Parameters:\n",
    "    ----------\n",
    "    env: environment, should contain the functions reset and step\n",
    "    agent: rl learning agent, should contain the functions get_action, add_experience_train, and end_episode\n",
    "    n_episodes (int): number of episodes to run\n",
    "    log_r (bool): use the log of rewards to train\n",
    "    '''\n",
    "    rewards = []\n",
    "    rewards_unscaled = []\n",
    "    losses = []\n",
    "    for n in range(n_episodes):\n",
    "        total_reward, total_loss, all_rewards, all_rewards_unscaled, t = run_episode_experiment(env, agent, train=True, log_r = log_r)\n",
    "        removed_constraint = agent.end_episode(total_reward)\n",
    "        if removed_constraint is not None:\n",
    "            print(n, removed_constraint)\n",
    "        rewards.append(sum(all_rewards_unscaled))\n",
    "        losses.append(total_loss)\n",
    "        plot_training(n, np.array(rewards), np.array(losses))"
   ]
  },
  {
   "cell_type": "markdown",
   "id": "7ee4edbc",
   "metadata": {
    "pycharm": {
     "name": "#%% md\n"
    }
   },
   "source": [
    "# Experiments\n",
    "\n",
    "Below contains the parameters for running the experiments.\n",
    "\n",
    "agent_params contains a dictionary of parameters for the base learning agents (ex. DDQN, Rainbow, etc) see the implementation file in the agents directory for detailed description of parameters.\n",
    "\n",
    "csrl_params contains a dictionary of parameters for the CSRL meta-selection agent, see the implementation file in the agents directory for details description of parameters.\n"
   ]
  },
  {
   "cell_type": "markdown",
   "id": "4f3007af",
   "metadata": {
    "pycharm": {
     "name": "#%% md\n"
    }
   },
   "source": [
    "## Lunar Lander"
   ]
  },
  {
   "cell_type": "code",
   "execution_count": null,
   "id": "d44e39d2",
   "metadata": {
    "pycharm": {
     "name": "#%%\n"
    }
   },
   "outputs": [
    {
     "data": {
      "image/png": "[encoded data removed]",
      "text/plain": [
       "<Figure size 1440x360 with 2 Axes>"
      ]
     },
     "metadata": {
      "needs_background": "light"
     },
     "output_type": "display_data"
    }
   ],
   "source": [
    "seed = 0  # Set the random seed\n",
    "\n",
    "torch.manual_seed(seed)\n",
    "\n",
    "device = torch.device(f'cuda:{int(0)}' if torch.cuda.is_available() else 'cpu')\n",
    "folder = '../environments_and_constraints/lunar_lander/trained_agent_files/'\n",
    "state_size = 8\n",
    "action_size = 4\n",
    "\n",
    "# Make the environment\n",
    "env = gym.make('LunarLander-v2')\n",
    "env.seed(seed)\n",
    "\n",
    "# Create the constraints\n",
    "# Load in the \"human\" policies that we use as constraints\n",
    "policies_dict = {key: DQNLoadedPolicy(state_size, action_size,\n",
    "                                      filename=folder + save_model_paths[key],\n",
    "                                      device=device)\n",
    "                 for key in policies_needed}\n",
    "constraints_names = ['none', 'p0_1', 'p1_1', 'p2_1', 'p3_1', 'p4_1', 'p5_1', 'p6_1', 'p7_1', 'p01_1', 'p23_1', 'p45_1',\n",
    "                     'p67_1']\n",
    "constraint_func_list, epsilon_decay_list, more_constrained_constraints_list, less_constrained_constraints_list \\\n",
    "    = get_info(constraints_names, constraint_name_to_lists, epsilon_decays, more_constrained_constraints,\n",
    "               less_constrained_constraints, policies_dict)\n",
    "\n",
    "# Set the params of the base learning agent\n",
    "agent_params = {\n",
    "    'state_size': state_size,\n",
    "    'action_size': action_size,\n",
    "    'device': device,\n",
    "    'gamma': 0.99,\n",
    "    'max_buffer_size': int(1e5),\n",
    "    'batch_size': 64,\n",
    "    'lr': 1e-3,\n",
    "    'copy_param': 4,\n",
    "    'double': True,\n",
    "    'epsilon_init': 1,\n",
    "    'decay_epsilon_experience': True\n",
    "}\n",
    "# agent_type selects the learner to use:\n",
    "constraint_func = constraint_func_list[0]\n",
    "epsilon_decay = epsilon_decay_list[0]\n",
    "print(constraint_func)\n",
    "print('-------')\n",
    "print(epsilon_decay)\n",
    "agent = DDQN_torch(constraint_func=constraint_func, epsilon_decay=epsilon_decay, **agent_params)\n",
    "run_experiment(env, agent, n_episodes=5000, log_r=False)"
   ]
  }
 ],
 "metadata": {
  "kernelspec": {
   "display_name": "Python 3 (ipykernel)",
   "language": "python",
   "name": "python3"
  },
  "language_info": {
   "codemirror_mode": {
    "name": "ipython",
    "version": 3
   },
   "file_extension": ".py",
   "mimetype": "text/x-python",
   "name": "python",
   "nbconvert_exporter": "python",
   "pygments_lexer": "ipython3",
   "version": "3.10.4"
  }
 },
 "nbformat": 4,
 "nbformat_minor": 5
}