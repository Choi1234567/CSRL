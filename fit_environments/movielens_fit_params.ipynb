{
 "cells": [
  {
   "cell_type": "code",
   "execution_count": 1,
   "metadata": {},
   "outputs": [],
   "source": [
    "import pickle\n",
    "from copy import deepcopy\n",
    "\n",
    "# import pandas as pd\n",
    "import numpy as np\n",
    "import matplotlib.pyplot as plt\n",
    "from tqdm.notebook import tqdm\n",
    "\n",
    "import sklearn\n",
    "from sklearn.model_selection import train_test_split\n",
    "from sklearn.linear_model import LinearRegression\n",
    "from sklearn.metrics import mean_squared_error, r2_score\n",
    "import scipy.stats\n",
    "import statsmodels.api as sm\n",
    "from IPython.core.display import display, HTML\n",
    "# display(HTML(\"<style>.container { width:95% !important; }</style>\"))"
   ]
  },
  {
   "cell_type": "code",
   "execution_count": 2,
   "metadata": {},
   "outputs": [],
   "source": [
    "# Genres_all_all = ['Drama', 'Comedy', 'Thriller', 'Romance', 'Action', 'Horror',\n",
    "#                   'Documentary', 'Crime', '(no genres listed)', 'Adventure', 'Sci-Fi', \n",
    "#                   'Children', 'Animation', 'Mystery', 'Fantasy', 'War', 'Western', \n",
    "#                   'Musical', 'Film-Noir', 'IMAX']\n",
    "Genres_all_all = ['Drama', 'Comedy', 'Thriller', 'Romance', 'Action', 'Horror',\n",
    "                  'Documentary', 'Crime', 'Adventure', 'Sci-Fi', \n",
    "                  'Children', 'Animation', 'Mystery', 'Fantasy', 'War', 'Western', \n",
    "                  'Musical', 'Film-Noir']\n",
    "\n",
    "Genres_all = ['Action', 'Comedy', 'Adventure', 'Thriller', 'Drama', \n",
    "          'Children', 'Crime', 'Horror', 'Sci-Fi', 'Animation']\n",
    "\n",
    "def format_plot(ax, legend_outside = False, legend = True):\n",
    "    ax.spines['top'].set_visible(False)\n",
    "    ax.spines['right'].set_visible(False)\n",
    "    ax.spines['bottom'].set_visible(True)\n",
    "    ax.spines['left'].set_visible(True)\n",
    "    ax.spines['bottom'].set_color('dimgrey')\n",
    "    ax.spines['left'].set_color('dimgrey')\n",
    "    \n",
    "    ax.get_xaxis().tick_bottom()\n",
    "    ax.get_yaxis().tick_left()\n",
    "    ax.grid(color = 'k', linestyle = '-', linewidth = 1, alpha = 0.2)\n",
    "    \n",
    "    if legend:\n",
    "        if legend_outside:\n",
    "            ax.legend(loc = 'center left', bbox_to_anchor = (1, 0.5))\n",
    "        else:\n",
    "            plt.legend()"
   ]
  },
  {
   "cell_type": "markdown",
   "metadata": {},
   "source": [
    "# Load in datasets"
   ]
  },
  {
   "cell_type": "code",
   "execution_count": 3,
   "metadata": {},
   "outputs": [],
   "source": [
    "# path = \"movielens_data/ml-25m/\"\n",
    "# ratings_data_25 = pd.read_csv(path+'ratings.csv')\n",
    "# movies_data_25 = pd.read_csv(path+'movies.csv')"
   ]
  },
  {
   "cell_type": "code",
   "execution_count": 4,
   "metadata": {},
   "outputs": [],
   "source": [
    "# path = \"movielens_data/ml-100k/\"\n",
    "# ratings_header = ['userId', 'movie_id', 'rating', 'timestamp']\n",
    "# ratings_data = pd.read_csv(path + 'u.data', sep='\\t', names=ratings_header)\n",
    "\n",
    "# movies_header = ['movie_id', 'title' ,'release_date','video_release_date', 'IMDb_URL', 'unknown', 'Action', 'Adventure',\n",
    "# 'Animation', 'Children', 'Comedy', 'Crime', 'Documentary', 'Drama', 'Fantasy',\n",
    "# 'Film-Noir', 'Horror', 'Musical', 'Mystery', 'Romance', 'Sci-Fi', 'Thriller', 'War', 'Western']\n",
    "\n",
    "# movies_data = pd.read_csv(path + 'u.item', sep='|', names=movies_header, encoding='latin-1')\n",
    "# movies_data = movies_data.drop(['release_date', 'video_release_date', 'IMDb_URL'], axis = 1)\n",
    "\n",
    "# users_header = ['user_id', 'age', 'sex', 'occupation', 'zip_code']\n",
    "# users_data = pd.read_csv(path + 'u.user', sep='|', names=users_header,encoding='latin-1')"
   ]
  },
  {
   "cell_type": "markdown",
   "metadata": {},
   "source": [
    "# Match movie ids between two datasets by title"
   ]
  },
  {
   "cell_type": "code",
   "execution_count": 5,
   "metadata": {},
   "outputs": [],
   "source": [
    "# ratings_data['movieId'] = pd.Series([-1 for x in range(len(ratings_data.index))], index=ratings_data.index)\n",
    "# old_id_to_new_id = {}\n",
    "# not_found = []\n",
    "# for idx, row in movies_data.iterrows():\n",
    "#     movie_title = row['title']\n",
    "#     old_movie_id = row['movie_id']\n",
    "#     new_movies = movies_data_25[movies_data_25['title'] == movie_title]\n",
    "#     if len(new_movies) > 0:\n",
    "#         new_movie_id = list(new_movies['movieId'])[0]\n",
    "#         ratings_data.loc[ratings_data.movie_id == old_movie_id, 'movieId'] = new_movie_id\n",
    "#         old_id_to_new_id[old_movie_id] = new_movie_id\n",
    "#     else:\n",
    "#         not_found.append((old_movie_id, movie_title))"
   ]
  },
  {
   "cell_type": "code",
   "execution_count": 6,
   "metadata": {},
   "outputs": [],
   "source": [
    "# print(f\"Movies in 100K dataset not matched to 25M dataset: {len(not_found)}\")"
   ]
  },
  {
   "cell_type": "code",
   "execution_count": 7,
   "metadata": {},
   "outputs": [],
   "source": [
    "# movies_ratings_data = movies_data.merge(ratings_data, on = 'movie_id', how = 'inner')"
   ]
  },
  {
   "cell_type": "code",
   "execution_count": 8,
   "metadata": {},
   "outputs": [],
   "source": [
    "# print(f\"Number of ratings that have an unmatched movie: {sum(movies_ratings_data['movieId'] == -1)}\")"
   ]
  },
  {
   "cell_type": "code",
   "execution_count": 9,
   "metadata": {},
   "outputs": [],
   "source": [
    "# with open('movielens_data/movies_ratings_data.pkl', 'wb') as f:\n",
    "#     pickle.dump(movies_ratings_data, f)"
   ]
  },
  {
   "cell_type": "markdown",
   "metadata": {},
   "source": [
    "# Load in Preprocessed movie to max genre dictionaries"
   ]
  },
  {
   "cell_type": "code",
   "execution_count": 10,
   "metadata": {},
   "outputs": [],
   "source": [
    "with open('movielens_data/movies_ratings_data.pkl', 'rb') as f:\n",
    "    movies_ratings_data = pickle.load(f)\n",
    "\n",
    "with open('movielens_data/movie_max_genres.pkl', 'rb') as f:\n",
    "    movie_max_genres = pickle.load(f)\n",
    "\n",
    "with open('movielens_data/movie_max_genres_relevances.pkl', 'rb') as f:\n",
    "    movie_max_genres_relevances = pickle.load(f)"
   ]
  },
  {
   "cell_type": "markdown",
   "metadata": {},
   "source": [
    "# Set Parameter"
   ]
  },
  {
   "cell_type": "code",
   "execution_count": 11,
   "metadata": {},
   "outputs": [],
   "source": [
    "w = 3\n",
    "d = 5\n",
    "d2 = 2\n",
    "Genres = Genres_all"
   ]
  },
  {
   "cell_type": "code",
   "execution_count": 12,
   "metadata": {},
   "outputs": [],
   "source": [
    "users_list = list(set(movies_ratings_data['userId']))"
   ]
  },
  {
   "cell_type": "markdown",
   "metadata": {},
   "source": [
    "# Get Genres, Max Movies, and time gaps between ratings"
   ]
  },
  {
   "cell_type": "code",
   "execution_count": 13,
   "metadata": {},
   "outputs": [
    {
     "data": {
      "application/vnd.jupyter.widget-view+json": {
       "model_id": "407867031eba4c62b82788428b5cd0ed",
       "version_major": 2,
       "version_minor": 0
      },
      "text/plain": [
       "  0%|          | 0/943 [00:00<?, ?it/s]"
      ]
     },
     "metadata": {},
     "output_type": "display_data"
    }
   ],
   "source": [
    "very_last_timestamp = 893286638\n",
    "user_movie_genres = {}\n",
    "user_movie_max_genres = {}\n",
    "user_movie_ratings = {}\n",
    "user_in_between_ratings_times = {}\n",
    "all_in_between_ratings_times = []\n",
    "time_since_last_ratings = []\n",
    "max_in_between_ratings_times = []\n",
    "for user in tqdm(users_list):\n",
    "    ratings_user = movies_ratings_data[movies_ratings_data['userId'] == user].sort_values(by = 'timestamp') # Ratings of this user\n",
    "    \n",
    "    \n",
    "    user_movie_ratings[user] = ratings_user['rating'].to_numpy()\n",
    "    user_movie_genres[user] = []\n",
    "    user_movie_max_genres[user] = []\n",
    "    user_movie_timestamps = list(ratings_user['timestamp'])\n",
    "    last_timestamp = user_movie_timestamps[0]\n",
    "    time_since_last_ratings.append((very_last_timestamp - user_movie_timestamps[-1])/(60.*60.*24.))\n",
    "    time_gaps = []               \n",
    "    for idx, row in ratings_user.iterrows():\n",
    "        genres = []\n",
    "        \n",
    "        curr_timestamp = row['timestamp']\n",
    "        time_gaps.append((curr_timestamp - last_timestamp)/(60.*60.*24.))\n",
    "        last_timestamp = curr_timestamp\n",
    "        \n",
    "        for genre in Genres_all_all:\n",
    "            if row[genre] == 1:\n",
    "                genres.append(genre)\n",
    "        if  len(genres) == 0:\n",
    "            genres.append(\"None\")\n",
    "\n",
    "        movieId = row['movieId']\n",
    "        if movieId > -1:\n",
    "            max_genre = movie_max_genres[movieId]\n",
    "        else:\n",
    "            max_genre = genres[0]\n",
    "        user_movie_genres[user].append(genres)\n",
    "        user_movie_max_genres[user].append(max_genre)\n",
    "    max_in_between_ratings_times.append(np.max(time_gaps))\n",
    "    user_in_between_ratings_times[user] = deepcopy(time_gaps)\n",
    "    all_in_between_ratings_times.extend(time_gaps)"
   ]
  },
  {
   "cell_type": "code",
   "execution_count": 14,
   "metadata": {},
   "outputs": [
    {
     "data": {
      "application/vnd.jupyter.widget-view+json": {
       "model_id": "04aaafe049dd4713ac41a75fadb9684b",
       "version_major": 2,
       "version_minor": 0
      },
      "text/plain": [
       "  0%|          | 0/943 [00:00<?, ?it/s]"
      ]
     },
     "metadata": {},
     "output_type": "display_data"
    }
   ],
   "source": [
    "genre_data = {genre: {\"recencies\": [], \"variabilities\": [], \"ratings\": []} for genre in Genres_all_all + [\"None\"]}\n",
    "for user in tqdm(users_list):\n",
    "    u_genres = user_movie_genres[user]\n",
    "    u_max_genres = user_movie_max_genres[user]\n",
    "    u_ratings = user_movie_ratings[user]\n",
    "    \n",
    "    total_items = len(user_movie_genres[user])\n",
    "    for i in range(w, total_items):\n",
    "        curr_rating = u_ratings[i]\n",
    "        curr_genres = u_genres[i]\n",
    "        curr_variability = len(set(u_max_genres[i-w+1:i+1])) #variability in this movie and last w-1 movies watched\n",
    "        \n",
    "        for genre in curr_genres:\n",
    "            genre_data[genre]['ratings'].append(curr_rating)\n",
    "            genre_data[genre]['variabilities'].append(curr_variability)\n",
    "            \n",
    "            current_recency = 0. # Initialize recency for the current movie genre\n",
    "            for j in range(1,w+1): # Look at the last w (or i if there is not enough history) movies watched\n",
    "                if genre in u_genres[i-j]:# If j time steps before, user has watched a movie of the genre genre\n",
    "                    current_recency += 1 / j  # ... Then the recency is updated\n",
    "            genre_data[genre]['recencies'].append(current_recency)  # Update recencies of the user for genre"
   ]
  },
  {
   "cell_type": "markdown",
   "metadata": {},
   "source": [
    "# Examine Data:"
   ]
  },
  {
   "cell_type": "code",
   "execution_count": 15,
   "metadata": {},
   "outputs": [
    {
     "data": {
      "application/vnd.jupyter.widget-view+json": {
       "model_id": "31c75f750cc243f2be8352b05a905f09",
       "version_major": 2,
       "version_minor": 0
      },
      "text/plain": [
       "  0%|          | 0/10 [00:00<?, ?it/s]"
      ]
     },
     "metadata": {},
     "output_type": "display_data"
    }
   ],
   "source": [
    "smooth_window = 2\n",
    "genres_vals_per_recency = {}\n",
    "for genre in tqdm(Genres):\n",
    "    genre_recencies = np.array(genre_data[genre][\"recencies\"])\n",
    "    genre_ratings = np.array(genre_data[genre][\"ratings\"])\n",
    "    \n",
    "    unique_recencies = list(set(genre_recencies))\n",
    "    unique_recencies.sort()\n",
    "    \n",
    "    recency_means = []\n",
    "    recency_stds = []\n",
    "\n",
    "    l_unique_recencies = len(unique_recencies)\n",
    "    for i in range(smooth_window, l_unique_recencies - smooth_window):\n",
    "        window_range = range(i-smooth_window, i+smooth_window + 1)\n",
    "        recency_ratings = []\n",
    "        for j in window_range:\n",
    "            recency = unique_recencies[j]\n",
    "            recency_ratings.extend(genre_ratings[genre_recencies == recency])\n",
    "\n",
    "        recency_means.append(np.mean(recency_ratings))\n",
    "        recency_stds.append(np.std(recency_ratings))\n",
    "        genres_vals_per_recency[genre] = {'recencies': unique_recencies[smooth_window: l_unique_recencies - smooth_window], 'recency_means': recency_means, 'recency_stds': recency_stds}\n",
    "    "
   ]
  },
  {
   "cell_type": "code",
   "execution_count": 16,
   "metadata": {},
   "outputs": [
    {
     "data": {
      "application/vnd.jupyter.widget-view+json": {
       "model_id": "474f8386f6874310b437644fdef14eb0",
       "version_major": 2,
       "version_minor": 0
      },
      "text/plain": [
       "  0%|          | 0/943 [00:00<?, ?it/s]"
      ]
     },
     "metadata": {},
     "output_type": "display_data"
    }
   ],
   "source": [
    "#Variability\n",
    "n = 5\n",
    "\n",
    "user_variability = {}\n",
    "user_ratings = {}\n",
    "all_variability = []\n",
    "all_ratings = []\n",
    "\n",
    "for user in tqdm(users_list):\n",
    "    user_movies_ratings_data = movies_ratings_data[movies_ratings_data['userId'] == user].sort_values(by = ['timestamp'], ascending = True)\n",
    "    user_movie_max_genre = user_movie_max_genres[user]\n",
    "    user_variability[user] = [len(set(user_movie_max_genre[i:i+n])) for i in range(len(user_movie_max_genre) - n)]\n",
    "    all_variability.extend(user_variability[user])\n",
    "    \n",
    "    ratings = list(user_movies_ratings_data['rating'])\n",
    "    user_ratings[user] = ratings[n:]\n",
    "    all_ratings.extend(ratings[n:])"
   ]
  },
  {
   "cell_type": "code",
   "execution_count": 17,
   "metadata": {},
   "outputs": [],
   "source": [
    "all_variability = np.array(all_variability)\n",
    "all_ratings = np.array(all_ratings)"
   ]
  },
  {
   "cell_type": "code",
   "execution_count": 18,
   "metadata": {},
   "outputs": [
    {
     "data": {
      "image/png": "[encoded data removed]",
      "text/plain": [
       "<Figure size 432x288 with 1 Axes>"
      ]
     },
     "metadata": {
      "needs_background": "light"
     },
     "output_type": "display_data"
    }
   ],
   "source": [
    "plt.hist(all_variability, density = True, bins = range(1,n+1))\n",
    "plt.xticks(range(1, n+1))\n",
    "plt.title(f'Number of Unique Genres Seen by Users in last {n}')\n",
    "plt.show()"
   ]
  },
  {
   "cell_type": "code",
   "execution_count": 19,
   "metadata": {},
   "outputs": [
    {
     "data": {
      "image/png": "[encoded data removed]",
      "text/plain": [
       "<Figure size 432x288 with 1 Axes>"
      ]
     },
     "metadata": {
      "needs_background": "light"
     },
     "output_type": "display_data"
    }
   ],
   "source": [
    "import matplotlib\n",
    "matplotlib.rcParams.update({'font.size': 14})\n",
    "plt.figure()\n",
    "ax = plt.subplot(111)\n",
    "avg_variability_ratings = []\n",
    "variability_stds = []\n",
    "for i in range(1, n+1):\n",
    "    avg_variability_ratings.append(np.mean(all_ratings[all_variability == i]))\n",
    "    variability_stds.append(np.std(all_ratings[all_variability == i]))\n",
    "    \n",
    "t = np.arange(1, n+1)\n",
    "avg_variability_ratings = np.array(avg_variability_ratings)\n",
    "variability_stds = np.array(variability_stds)\n",
    "plt.plot(t, avg_variability_ratings)\n",
    "plt.xlabel(f'Unique Genres Seen in Last {n} Movies')\n",
    "plt.ylabel(f'Rating of the last ({n}th) Movie')\n",
    "# plt.title(f'Ratings and Variability, History = {n}')\n",
    "plt.title(f'Ratings and Variability')\n",
    "# p = np.poly1d(np.polyfit(t, avg_variability_ratings, 3))\n",
    "# plt.plot(np.arange(1, n, 0.1), p(np.arange(1, n, 0.1)))\n",
    "# plt.errorbar(range(1, n+1), avg_variability_ratings, yerr = variability_stds/2)\n",
    "format_plot(ax, legend = False)\n",
    "\n",
    "plt.show()\n"
   ]
  },
  {
   "cell_type": "code",
   "execution_count": 20,
   "metadata": {},
   "outputs": [
    {
     "data": {
      "text/plain": [
       "(0.05426233782275823, 2.4867856469063414e-92)"
      ]
     },
     "execution_count": 20,
     "metadata": {},
     "output_type": "execute_result"
    }
   ],
   "source": [
    "slope, intercept, r_value, p_value, std_err = scipy.stats.linregress(all_ratings, all_variability)\n",
    "slope, p_value"
   ]
  },
  {
   "cell_type": "markdown",
   "metadata": {},
   "source": [
    "### Make Train Test Set"
   ]
  },
  {
   "cell_type": "code",
   "execution_count": 21,
   "metadata": {},
   "outputs": [
    {
     "data": {
      "application/vnd.jupyter.widget-view+json": {
       "model_id": "72482ec1b7574cf9bbc06a38fde17001",
       "version_major": 2,
       "version_minor": 0
      },
      "text/plain": [
       "  0%|          | 0/10 [00:00<?, ?it/s]"
      ]
     },
     "metadata": {},
     "output_type": "display_data"
    }
   ],
   "source": [
    "d1 = 2\n",
    "d2 = 2\n",
    "genres_X = {genre: None for genre in Genres}\n",
    "for genre in tqdm(Genres):\n",
    "    genre_recencies = np.array(genre_data[genre][\"recencies\"])\n",
    "    genre_recencies2 = np.array(genre_data[genre][\"recencies\"])\n",
    "    genre_recencies2[genre_recencies2 == 0] = -1\n",
    "    genre_variabilities = genre_data[genre]['variabilities']\n",
    "    n_points = len(genre_recencies)\n",
    "    X = np.array([[genre_recencies[i] ** j for j in range(d + 1)] +[(genre_variabilities[i]/float(w))**j for j in range(1, d1+1)]+ [(genre_variabilities[i]/float(w) * genre_recencies2[i])**j for j in range(1, d2+1)] for i in range(n_points)])\n",
    "#     X = np.array([[genre_recencies[i] ** j for j in range(d + 1)] + [(genre_variabilities[i]/float(w) * genre_recencies[i])**j for j in range(1, d2+1)] for i in range(n_points)])\n",
    "\n",
    "\n",
    "    X_train, X_test, y_train, y_test = train_test_split(X, genre_data[genre][\"ratings\"], test_size = 0.2)\n",
    "    genres_X[genre] = {'X_train': X_train, 'X_test': X_test, 'y_train': y_train, 'y_test': y_test}"
   ]
  },
  {
   "cell_type": "markdown",
   "metadata": {},
   "source": [
    "### Fit Models"
   ]
  },
  {
   "cell_type": "code",
   "execution_count": 22,
   "metadata": {},
   "outputs": [
    {
     "data": {
      "application/vnd.jupyter.widget-view+json": {
       "model_id": "162b88801f2b4e15a7d7bcb76a35d830",
       "version_major": 2,
       "version_minor": 0
      },
      "text/plain": [
       "  0%|          | 0/10 [00:00<?, ?it/s]"
      ]
     },
     "metadata": {},
     "output_type": "display_data"
    },
    {
     "name": "stdout",
     "output_type": "stream",
     "text": [
      "Action\n",
      "Old model:  0.0040407416340696445 0.003493752160423247 1.2603515701714836 1.2713475736122037\n",
      "New model:  0.00797845032396216 0.008384492820216916 1.255368537694506 1.2651079426169387\n",
      "\n",
      "Comedy\n",
      "Old model:  0.007103082367531766 0.007418135299826489 1.290495659430676 1.3216990534879827\n",
      "New model:  0.009628399982000269 0.011671994037343425 1.2872134340936026 1.3160347135811217\n",
      "\n",
      "Adventure\n",
      "Old model:  0.00044530678708054605 -0.0006251428400758652 1.2561936437008063 1.3399285377778376\n",
      "New model:  0.005893211667590714 0.004043194487098112 1.2493469713487555 1.3336772073436456\n",
      "\n",
      "Thriller\n",
      "Old model:  0.0027638032305157267 -0.0008727529345169405 1.228088765735943 1.2224627115925997\n",
      "New model:  0.006490377506878087 -0.00028584907485784683 1.2234995179546182 1.2217458691352348\n",
      "\n",
      "Drama\n",
      "Old model:  0.0030582317669913817 0.001979002667761187 1.1642467225534996 1.149191706718466\n",
      "New model:  0.0042926379657822755 0.0026990116172596057 1.1628051605515493 1.1483626376750906\n",
      "\n",
      "Children\n",
      "Old model:  0.0032380555733110272 0.005358880445296532 1.315689872726422 1.289534266744121\n",
      "New model:  0.007563343203081163 0.009353965709267609 1.3099806488109857 1.2843547107764752\n",
      "\n",
      "Crime\n",
      "Old model:  0.0017840316560768787 0.00106215119049613 1.2373662054123917 1.2572669848875113\n",
      "New model:  0.010410336756458083 0.01102450629670848 1.2266732303976797 1.2447283267700984\n",
      "\n",
      "Horror\n",
      "Old model:  0.03726430990550955 0.0034174413987946295 1.3744881122688746 1.3843209939128034\n",
      "New model:  0.03822539869253261 0.006481080121244487 1.373115975423643 1.3800653912387968\n",
      "\n",
      "Sci-Fi\n",
      "Old model:  0.001074958124377745 0.0004610389184728225 1.2907242916265609 1.2785992973818436\n",
      "New model:  0.0066105694793142655 0.00419988807932592 1.2835716547966696 1.2738166024632678\n",
      "\n",
      "Animation\n",
      "Old model:  0.002178076233832371 0.006052447884378864 1.1858802161327613 1.2625044134314383\n",
      "New model:  0.003042039462147428 0.0030658222206432217 1.1848534227986782 1.266298002010341\n",
      "\n"
     ]
    }
   ],
   "source": [
    "genre_results = {}\n",
    "reg_novar_coef = {}\n",
    "reg_var_coef = {}\n",
    "reg_novar_coef_arr = []\n",
    "reg_var_coef_arr = []\n",
    "\n",
    "for genre in tqdm(Genres):\n",
    "    X_train = genres_X[genre]['X_train']\n",
    "    X_test = genres_X[genre]['X_test']\n",
    "    y_train = genres_X[genre]['y_train']\n",
    "    y_test = genres_X[genre]['y_test']\n",
    "    \n",
    "    reg_novar = LinearRegression(fit_intercept=False).fit(X_train[:, 0:6], y_train)\n",
    "    preds_novar_train = reg_novar.predict(X_train[:, 0:6])\n",
    "    preds_novar_test = reg_novar.predict(X_test[:, 0:6])\n",
    "    r2_novar_train = reg_novar.score(X_train[:, 0:6], y_train)\n",
    "    r2_novar_test = reg_novar.score(X_test[:, 0:6], y_test)\n",
    "    mse_novar_train = mean_squared_error(preds_novar_train, y_train)\n",
    "    mse_novar_test = mean_squared_error(preds_novar_test, y_test)\n",
    "    \n",
    "    reg_var = LinearRegression(fit_intercept=False).fit(X_train, y_train)\n",
    "    preds_var_train = reg_var.predict(X_train)\n",
    "    preds_var_test = reg_var.predict(X_test)\n",
    "    r2_var_train = reg_var.score(X_train, y_train)\n",
    "    r2_var_test = reg_var.score(X_test, y_test)\n",
    "    mse_var_train = mean_squared_error(preds_var_train, y_train)\n",
    "    mse_var_test = mean_squared_error(preds_var_test, y_test)\n",
    "    genre_results[genre] = (r2_novar_train, r2_novar_test, mse_novar_train, mse_novar_test, r2_var_train, r2_var_test, mse_var_train, mse_var_test)\n",
    "    \n",
    "    reg_novar_coef[genre] = reg_novar.coef_\n",
    "    reg_novar_coef_arr.append(reg_novar.coef_)\n",
    "    reg_var_coef[genre] = reg_var.coef_\n",
    "    reg_var_coef_arr.append(reg_var.coef_)\n",
    "    \n",
    "    print(genre)\n",
    "    print(\"Old model: \", r2_novar_train, r2_novar_test, mse_novar_train, mse_novar_test)\n",
    "    print(\"New model: \", r2_var_train, r2_var_test, mse_var_train, mse_var_test)\n",
    "    print()\n",
    "reg_novar_coef_arr = np.array(reg_novar_coef_arr) \n",
    "reg_var_coef_arr = np.array(reg_var_coef_arr)"
   ]
  },
  {
   "cell_type": "markdown",
   "metadata": {},
   "source": [
    "### Parameters Used Ratings:"
   ]
  },
  {
   "cell_type": "code",
   "execution_count": 23,
   "metadata": {},
   "outputs": [
    {
     "data": {
      "text/plain": [
       "array([[ 3.47056208e+00, -2.68368473e-01, -2.00701885e+00,\n",
       "         4.04673784e+00, -2.68976180e+00,  5.82511337e-01,\n",
       "         3.45454739e-01, -1.40220384e-01,  1.93838775e-01,\n",
       "         2.36415252e-02],\n",
       "       [ 3.15685721e+00, -4.65855236e-01,  1.91870392e+00,\n",
       "        -3.30044876e+00,  2.20370061e+00, -5.12195637e-01,\n",
       "         8.22511583e-01, -5.43726538e-01,  2.91859020e-02,\n",
       "         9.25619168e-02],\n",
       "       [ 2.83704255e+00, -1.23029162e+00,  3.63740233e+00,\n",
       "        -4.66073334e+00,  2.46578530e+00, -4.49803651e-01,\n",
       "         1.70884464e+00, -8.79825837e-01,  1.36099801e-01,\n",
       "         3.51808854e-03],\n",
       "       [ 3.02220610e+00, -3.79154969e-02, -7.53940064e-01,\n",
       "         1.60237032e+00, -1.16582601e+00,  2.73727996e-01,\n",
       "         1.02643385e+00, -4.64329495e-01,  1.35543720e-02,\n",
       "         2.16492065e-02],\n",
       "       [ 3.00296489e+00,  2.03311690e+00, -4.40584545e+00,\n",
       "         4.99289637e+00, -2.63381764e+00,  5.12119206e-01,\n",
       "         7.07830577e-01, -3.06926555e-01, -1.82722084e-01,\n",
       "         2.63384704e-02],\n",
       "       [ 2.64159541e+00,  1.27549968e+00,  1.24152537e+00,\n",
       "        -3.82756672e+00,  2.61913165e+00, -5.67689680e-01,\n",
       "         8.14185492e-01, -4.95130358e-01, -4.61785680e-01,\n",
       "        -1.14599065e-04],\n",
       "       [ 2.67745122e+00,  3.35781395e+00, -8.59311265e+00,\n",
       "         1.08128638e+01, -5.98981893e+00,  1.17670197e+00,\n",
       "         1.28403528e+00, -6.10358003e-01, -3.69022641e-01,\n",
       "        -5.16687302e-02],\n",
       "       [ 3.16117349e+00,  6.70494531e+00, -2.86997811e+01,\n",
       "         4.28462704e+01, -2.63755988e+01,  5.68342783e+00,\n",
       "         9.95764350e-02, -5.65634151e-02, -1.65492842e-01,\n",
       "         6.73768002e-02],\n",
       "       [ 2.44303688e+00,  1.03988773e+00, -5.01873862e+00,\n",
       "         7.29947665e+00, -4.30491609e+00,  8.99877513e-01,\n",
       "         2.68768783e+00, -1.55163860e+00,  8.15295516e-02,\n",
       "         5.69947853e-02],\n",
       "       [ 3.47274908e+00,  2.97930555e+00, -1.23469371e+01,\n",
       "         1.92451596e+01, -1.23617995e+01,  2.76139586e+00,\n",
       "         1.60939719e-01, -1.44899607e-01, -1.64088526e-01,\n",
       "        -7.51817413e-02]])"
      ]
     },
     "execution_count": 23,
     "metadata": {},
     "output_type": "execute_result"
    }
   ],
   "source": [
    "reg_var_coef_arr"
   ]
  },
  {
   "cell_type": "markdown",
   "metadata": {},
   "source": [
    "# Dropout"
   ]
  },
  {
   "cell_type": "markdown",
   "metadata": {},
   "source": [
    "### Find Dropout Users (Users that haven't used the system for more than n days)"
   ]
  },
  {
   "cell_type": "code",
   "execution_count": 24,
   "metadata": {},
   "outputs": [],
   "source": [
    "all_in_between_ratings_times = np.array(all_in_between_ratings_times)\n",
    "time_since_last_ratings = np.array(time_since_last_ratings)\n",
    "max_in_between_ratings_times = np.array(max_in_between_ratings_times)"
   ]
  },
  {
   "cell_type": "code",
   "execution_count": 25,
   "metadata": {},
   "outputs": [
    {
     "data": {
      "image/png": "[encoded data removed]",
      "text/plain": [
       "<Figure size 432x288 with 1 Axes>"
      ]
     },
     "metadata": {
      "needs_background": "light"
     },
     "output_type": "display_data"
    }
   ],
   "source": [
    "plt.hist(max_in_between_ratings_times, alpha = 0.2, density = True)\n",
    "plt.hist(all_in_between_ratings_times, alpha = 0.2, density = True)\n",
    "plt.show()"
   ]
  },
  {
   "cell_type": "code",
   "execution_count": 26,
   "metadata": {},
   "outputs": [
    {
     "data": {
      "text/plain": [
       "array([ 26.09821181,  95.03256944, 155.16755787, 194.21957407])"
      ]
     },
     "execution_count": 26,
     "metadata": {},
     "output_type": "execute_result"
    }
   ],
   "source": [
    "np.quantile(time_since_last_ratings, [0.25, 0.5, 0.75, 0.95])"
   ]
  },
  {
   "cell_type": "code",
   "execution_count": 27,
   "metadata": {},
   "outputs": [
    {
     "data": {
      "text/plain": [
       "array([0.00000000e+00, 0.00000000e+00, 4.16666667e-04, 3.59736979e+00])"
      ]
     },
     "execution_count": 27,
     "metadata": {},
     "output_type": "execute_result"
    }
   ],
   "source": [
    "np.quantile(all_in_between_ratings_times, [0.25, 0.5, 0.75, 0.99])"
   ]
  },
  {
   "cell_type": "code",
   "execution_count": 28,
   "metadata": {},
   "outputs": [
    {
     "name": "stdout",
     "output_type": "stream",
     "text": [
      "177\n",
      "813\n",
      "0.1787878787878788\n"
     ]
    }
   ],
   "source": [
    "n = 20\n",
    "users_more_n = np.array(users_list)[time_since_last_ratings > n]\n",
    "print(sum(max_in_between_ratings_times > n))\n",
    "print(sum(time_since_last_ratings > n))\n",
    "print(sum(max_in_between_ratings_times > n)/(sum(max_in_between_ratings_times > n) + sum(time_since_last_ratings > n)))"
   ]
  },
  {
   "cell_type": "code",
   "execution_count": 29,
   "metadata": {},
   "outputs": [
    {
     "data": {
      "application/vnd.jupyter.widget-view+json": {
       "model_id": "11f17226bd6a46139c30279d37a95dbf",
       "version_major": 2,
       "version_minor": 0
      },
      "text/plain": [
       "  0%|          | 0/813 [00:00<?, ?it/s]"
      ]
     },
     "metadata": {},
     "output_type": "display_data"
    }
   ],
   "source": [
    "#Variability\n",
    "n = 5\n",
    "r_b = 3.5\n",
    "\n",
    "all_variability_dropout = []\n",
    "all_but_last_variability = []\n",
    "last_variability = []\n",
    "\n",
    "all_ratings = []\n",
    "all_avg_ratings = []\n",
    "all_but_last_avg_ratings = []\n",
    "last_avg_ratings = []\n",
    "\n",
    "all_percent_ratings = []\n",
    "all_but_last_percent_ratings = []\n",
    "last_percent_ratings = []\n",
    "\n",
    "genre_all_variability_dropout = {genre:[] for genre in Genres_all_all}\n",
    "genre_all_but_last_variability = {genre:[] for genre in Genres_all_all}\n",
    "genre_last_variability = {genre:[] for genre in Genres_all_all}\n",
    "\n",
    "for user in tqdm(users_more_n):\n",
    "    user_movies_ratings_data = movies_ratings_data[movies_ratings_data['userId'] == user].sort_values(by = ['timestamp'], ascending = True)\n",
    "    user_movie_max_genre = user_movie_max_genres[user]\n",
    "    user_variability_vals = [len(set(user_movie_max_genre[i:i+n])) for i in range(len(user_movie_max_genre) - n)]\n",
    "    \n",
    "    \n",
    "    all_variability_dropout.extend(user_variability_vals)\n",
    "    all_but_last_variability.extend(user_variability_vals[0:-1])\n",
    "    last_variability.append(user_variability_vals[-1])\n",
    "    \n",
    "    ratings = list(user_movies_ratings_data['rating'])\n",
    "    all_ratings.extend(ratings[n:])\n",
    "    \n",
    "    user_avg_rating = [np.mean(ratings[i:i+n]) for i in range(len(ratings) - n)]\n",
    "    all_avg_ratings.extend(user_avg_rating)\n",
    "    all_but_last_avg_ratings.extend(user_avg_rating[0:-1])\n",
    "    last_avg_ratings.append(user_avg_rating[-1])\n",
    "    \n",
    "    user_percent_rating = [np.mean(np.array(ratings[i:i+n]) < r_b) for i in range(len(ratings) - n)]\n",
    "    all_percent_ratings.extend(user_percent_rating)\n",
    "    all_but_last_percent_ratings.extend(user_percent_rating[0:-1])\n",
    "    last_percent_ratings.append(user_percent_rating[-1])\n",
    "    \n",
    "    for idx, max_genre in enumerate(user_movie_max_genre[n:]):\n",
    "        if max_genre in Genres_all_all:\n",
    "            genre_all_variability_dropout[max_genre].append(user_variability_vals[idx])\n",
    "            if idx == len(user_movie_max_genre[n:]) - 1:\n",
    "                genre_last_variability[max_genre].append(user_variability_vals[idx])\n",
    "            else:\n",
    "                genre_all_but_last_variability[max_genre].append(user_variability_vals[idx])\n",
    "        "
   ]
  },
  {
   "cell_type": "code",
   "execution_count": 30,
   "metadata": {},
   "outputs": [],
   "source": [
    "all_but_last_variability = np.array(all_but_last_variability)\n",
    "last_variability = np.array(last_variability)\n",
    "all_variability= np.array(all_variability_dropout)\n",
    "\n",
    "all_but_last_avg_ratings = np.array(all_but_last_avg_ratings)\n",
    "last_avg_ratings = np.array(last_avg_ratings)\n",
    "all_avg_ratings = np.array(all_avg_ratings)\n",
    "\n",
    "all_but_last_percent_ratings = np.array(all_but_last_percent_ratings)\n",
    "last_percent_ratings = np.array(last_percent_ratings)\n",
    "all_percent_ratings = np.array(all_percent_ratings)\n",
    "\n",
    "for max_genre in Genres_all_all:\n",
    "    genre_all_variability_dropout[max_genre] = np.array(genre_all_variability_dropout[max_genre])\n",
    "    genre_last_variability[max_genre] = np.array(genre_last_variability[max_genre])\n",
    "    genre_all_but_last_variability[max_genre] = np.array(genre_all_but_last_variability[max_genre])"
   ]
  },
  {
   "cell_type": "markdown",
   "metadata": {},
   "source": [
    "### Variability and Dropout"
   ]
  },
  {
   "cell_type": "code",
   "execution_count": 31,
   "metadata": {},
   "outputs": [
    {
     "name": "stdout",
     "output_type": "stream",
     "text": [
      "3.702695486162103\n",
      "3.7034012687272235\n",
      "3.6383763837638377\n"
     ]
    }
   ],
   "source": [
    "print(np.mean(all_variability))\n",
    "print(np.mean(all_but_last_variability))\n",
    "print(np.mean(last_variability))"
   ]
  },
  {
   "cell_type": "code",
   "execution_count": 32,
   "metadata": {},
   "outputs": [],
   "source": [
    "dropout_p = []\n",
    "conf_p = []\n",
    "var_x = range(1, n+1)\n",
    "for i in var_x:\n",
    "    p_i = np.sum(last_variability == i)/np.sum(all_variability == i)\n",
    "    n_i = np.sum(all_variability == i)\n",
    "    dropout_p.append(p_i)\n",
    "    conf_p.append(1.96*np.sqrt((p_i)*(1-p_i)/n_i))\n",
    "dropout_p = np.array(dropout_p)\n",
    "conf_p = np.array(conf_p)"
   ]
  },
  {
   "cell_type": "code",
   "execution_count": 33,
   "metadata": {},
   "outputs": [
    {
     "data": {
      "image/png": "[encoded data removed]",
      "text/plain": [
       "<Figure size 432x288 with 1 Axes>"
      ]
     },
     "metadata": {
      "needs_background": "light"
     },
     "output_type": "display_data"
    }
   ],
   "source": [
    "plt.figure()\n",
    "ax = plt.subplot(111)\n",
    "\n",
    "# plt.plot(var_x[0:-1], dropout_p[0:-1], linewidth=2)\n",
    "# plt.scatter(var_x[0:-1], dropout_p[0:-1])\n",
    "\n",
    "plt.plot(var_x, dropout_p, linewidth=2)\n",
    "plt.scatter(var_x, dropout_p)\n",
    "# plt.fill_between(var_x, (dropout_p-conf_p), (dropout_p+conf_p), color = 'C0', alpha=.2)\n",
    "plt.xticks(var_x[0:-1])\n",
    "plt.xlabel('Variability')\n",
    "plt.ylabel('Percent Dropout')\n",
    "plt.title('Dropout vs Variability')\n",
    "\n",
    "format_plot(ax, legend = False)\n",
    "\n",
    "plt.show()"
   ]
  },
  {
   "cell_type": "markdown",
   "metadata": {},
   "source": [
    "#### Hypothesis Tests"
   ]
  },
  {
   "cell_type": "code",
   "execution_count": 34,
   "metadata": {},
   "outputs": [],
   "source": [
    "dropout_p_all = np.hstack([all_but_last_variability, last_variability])\n",
    "var_x_all = np.hstack([np.zeros(len(all_but_last_variability)), np.ones(len(last_variability))])"
   ]
  },
  {
   "cell_type": "code",
   "execution_count": 35,
   "metadata": {},
   "outputs": [
    {
     "name": "stdout",
     "output_type": "stream",
     "text": [
      "-0.0008139716240624508\n",
      "0.013867926947283183\n",
      "0.04647016573817672\n"
     ]
    }
   ],
   "source": [
    "slope, intercept, r_value, p_value, std_err = scipy.stats.linregress(dropout_p_all, var_x_all)\n",
    "print(slope)\n",
    "print(intercept)\n",
    "print(p_value)"
   ]
  },
  {
   "cell_type": "code",
   "execution_count": 36,
   "metadata": {},
   "outputs": [
    {
     "name": "stdout",
     "output_type": "stream",
     "text": [
      "[[   13   146]\n",
      " [  853 15075]]\n",
      "1.9366229438278932 0.16403567919381729\n"
     ]
    }
   ],
   "source": [
    "i1 = 1\n",
    "i2 = 5\n",
    "obs = np.array([[np.sum(last_variability == i1), np.sum(last_variability == i2)], [np.sum(all_variability == i1), np.sum(all_variability == i2)]])\n",
    "print(obs)\n",
    "teststat, pvalue, degfree, expectedvals = scipy.stats.chi2_contingency(obs)\n",
    "print(teststat, pvalue)"
   ]
  },
  {
   "cell_type": "markdown",
   "metadata": {},
   "source": [
    "### Dropout vs variability"
   ]
  },
  {
   "cell_type": "code",
   "execution_count": 37,
   "metadata": {},
   "outputs": [
    {
     "data": {
      "text/plain": [
       "array([0.01524033, 0.01170644, 0.01141712, 0.01072829, 0.00968491])"
      ]
     },
     "execution_count": 37,
     "metadata": {},
     "output_type": "execute_result"
    }
   ],
   "source": [
    "dropout_p"
   ]
  },
  {
   "cell_type": "code",
   "execution_count": 38,
   "metadata": {},
   "outputs": [],
   "source": [
    "X = []\n",
    "y = []\n",
    "\n",
    "for idx, max_genre in enumerate(Genres_all_all):\n",
    "    all_variability = genre_all_variability_dropout[max_genre]\n",
    "    last_variability = genre_last_variability[max_genre]\n",
    "    all_but_last_variability =  genre_all_but_last_variability[max_genre]\n",
    "    n_features = len(var_x) + len(Genres_all_all)\n",
    "    \n",
    "    \n",
    "    for var in last_variability:\n",
    "        x = np.zeros(n_features)\n",
    "        x[var-1] = 1\n",
    "        x[len(var_x) + idx] = 1\n",
    "        X.append(x)\n",
    "        y.append(1)\n",
    "    \n",
    "    for var in all_but_last_variability:\n",
    "        x = np.zeros(n_features)\n",
    "        x[var-1] = 1\n",
    "        x[len(var_x)+idx] = 1\n",
    "        X.append(x)\n",
    "        y.append(0)"
   ]
  },
  {
   "cell_type": "code",
   "execution_count": 39,
   "metadata": {},
   "outputs": [],
   "source": [
    "mod = sm.OLS(y,X)\n",
    "fii = mod.fit()\n",
    "p_values = fii.summary2().tables[1]['P>|t|']"
   ]
  },
  {
   "cell_type": "code",
   "execution_count": 40,
   "metadata": {},
   "outputs": [],
   "source": [
    "dropout_var_act = []\n",
    "for genre in Genres:\n",
    "    g_idx = Genres_all_all.index(genre)\n",
    "    dropout_var = [1]\n",
    "    for v in var_x:\n",
    "        dropout_var.append(fii.params[v-1] + fii.params[len(var_x) + g_idx])\n",
    "    dropout_var_act.append(dropout_var)        "
   ]
  },
  {
   "cell_type": "markdown",
   "metadata": {},
   "source": [
    "### Parameters Used Dropout:"
   ]
  },
  {
   "cell_type": "code",
   "execution_count": 41,
   "metadata": {},
   "outputs": [
    {
     "data": {
      "text/plain": [
       "[[1,\n",
       "  0.016880341732725707,\n",
       "  0.013447872411128426,\n",
       "  0.0132060180845463,\n",
       "  0.012483519177897324,\n",
       "  0.011505679265467026],\n",
       " [1,\n",
       "  0.01610839784729058,\n",
       "  0.0126759285256933,\n",
       "  0.012434074199111175,\n",
       "  0.011711575292462199,\n",
       "  0.0107337353800319],\n",
       " [1,\n",
       "  0.011792130357078387,\n",
       "  0.008359661035481105,\n",
       "  0.008117806708898981,\n",
       "  0.007395307802250004,\n",
       "  0.006417467889819705],\n",
       " [1,\n",
       "  0.014098559704213386,\n",
       "  0.010666090382616105,\n",
       "  0.01042423605603398,\n",
       "  0.009701737149385003,\n",
       "  0.008723897236954705],\n",
       " [1,\n",
       "  0.014467032966370079,\n",
       "  0.011034563644772797,\n",
       "  0.010792709318190673,\n",
       "  0.010070210411541696,\n",
       "  0.009092370499111397],\n",
       " [1,\n",
       "  0.01854137622827951,\n",
       "  0.015108906906682228,\n",
       "  0.014867052580100105,\n",
       "  0.014144553673451129,\n",
       "  0.01316671376102083],\n",
       " [1,\n",
       "  0.015303615974718278,\n",
       "  0.011871146653120997,\n",
       "  0.011629292326538872,\n",
       "  0.010906793419889895,\n",
       "  0.009928953507459598],\n",
       " [1,\n",
       "  0.019133806258447607,\n",
       "  0.015701336936850326,\n",
       "  0.015459482610268202,\n",
       "  0.014736983703619226,\n",
       "  0.013759143791188928],\n",
       " [1,\n",
       "  0.017809551592896253,\n",
       "  0.01437708227129897,\n",
       "  0.014135227944716847,\n",
       "  0.01341272903806787,\n",
       "  0.01243488912563757],\n",
       " [1,\n",
       "  0.011582343070626422,\n",
       "  0.00814987374902914,\n",
       "  0.007908019422447015,\n",
       "  0.007185520515798039,\n",
       "  0.0062076806033677405]]"
      ]
     },
     "execution_count": 41,
     "metadata": {},
     "output_type": "execute_result"
    }
   ],
   "source": [
    "dropout_var_act"
   ]
  },
  {
   "cell_type": "code",
   "execution_count": null,
   "metadata": {},
   "outputs": [],
   "source": []
  }
 ],
 "metadata": {
  "kernelspec": {
   "display_name": "CS_DDQN",
   "language": "python",
   "name": "cs_ddqn"
  },
  "language_info": {
   "codemirror_mode": {
    "name": "ipython",
    "version": 3
   },
   "file_extension": ".py",
   "mimetype": "text/x-python",
   "name": "python",
   "nbconvert_exporter": "python",
   "pygments_lexer": "ipython3",
   "version": "3.8.10"
  }
 },
 "nbformat": 4,
 "nbformat_minor": 4
}
